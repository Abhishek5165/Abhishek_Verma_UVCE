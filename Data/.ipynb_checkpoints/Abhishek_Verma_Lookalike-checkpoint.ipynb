{
 "cells": [
  {
   "cell_type": "markdown",
   "id": "12bd60c7-3b67-4f25-84a0-abf035c775d6",
   "metadata": {},
   "source": [
    "# Task 2 : Lookalike Model 🙂"
   ]
  },
  {
   "cell_type": "markdown",
   "id": "29fec41e-488b-492b-a7a5-b164d4b21478",
   "metadata": {},
   "source": [
    "# Import necessary libraries 📲"
   ]
  },
  {
   "cell_type": "code",
   "execution_count": null,
   "id": "17866a90-62ec-4423-94de-2a23c436afc2",
   "metadata": {},
   "outputs": [],
   "source": [
    "!pip install scikit-learn"
   ]
  },
  {
   "cell_type": "code",
   "execution_count": 42,
   "id": "b44763f5-338a-4bf2-ae94-5594478f9348",
   "metadata": {},
   "outputs": [],
   "source": [
    "# Import necessary libraries\n",
    "\n",
    "import pandas as pd\n",
    "import numpy as np\n",
    "from sklearn.preprocessing import StandardScaler, OneHotEncoder\n",
    "from sklearn.metrics.pairwise import cosine_similarity\n"
   ]
  },
  {
   "cell_type": "markdown",
   "id": "4a544274-0859-4695-8095-ec73a68a2e75",
   "metadata": {},
   "source": [
    "# Load the datasets 🖨"
   ]
  },
  {
   "cell_type": "code",
   "execution_count": 43,
   "id": "ac9d7ce5-c29b-4ca8-8e94-c17209453968",
   "metadata": {},
   "outputs": [],
   "source": [
    "# Load the datasets\n",
    "\n",
    "customers    =  pd.read_csv(\"C:/Users/HP/Desktop/ZeoTap/Data/Customers.csv\")\n",
    "products     =  pd.read_csv(\"C:/Users/HP/Desktop/ZeoTap/Data/Products.csv\")\n",
    "transactions =  pd.read_csv(\"C:/Users/HP/Desktop/ZeoTap/Data/Transactions.csv\")\n"
   ]
  },
  {
   "cell_type": "markdown",
   "id": "12665b42-9b09-4cd5-bcaa-cd711a8b5286",
   "metadata": {},
   "source": [
    "# Understanding the Data 👨🏽‍💻"
   ]
  },
  {
   "cell_type": "code",
   "execution_count": 44,
   "id": "d03927ac-e8ac-431a-9b06-3c08364d90a9",
   "metadata": {},
   "outputs": [
    {
     "data": {
      "text/html": [
       "<div>\n",
       "<style scoped>\n",
       "    .dataframe tbody tr th:only-of-type {\n",
       "        vertical-align: middle;\n",
       "    }\n",
       "\n",
       "    .dataframe tbody tr th {\n",
       "        vertical-align: top;\n",
       "    }\n",
       "\n",
       "    .dataframe thead th {\n",
       "        text-align: right;\n",
       "    }\n",
       "</style>\n",
       "<table border=\"1\" class=\"dataframe\">\n",
       "  <thead>\n",
       "    <tr style=\"text-align: right;\">\n",
       "      <th></th>\n",
       "      <th>CustomerID</th>\n",
       "      <th>CustomerName</th>\n",
       "      <th>Region</th>\n",
       "      <th>SignupDate</th>\n",
       "    </tr>\n",
       "  </thead>\n",
       "  <tbody>\n",
       "    <tr>\n",
       "      <th>0</th>\n",
       "      <td>C0001</td>\n",
       "      <td>Lawrence Carroll</td>\n",
       "      <td>South America</td>\n",
       "      <td>2022-07-10</td>\n",
       "    </tr>\n",
       "    <tr>\n",
       "      <th>1</th>\n",
       "      <td>C0002</td>\n",
       "      <td>Elizabeth Lutz</td>\n",
       "      <td>Asia</td>\n",
       "      <td>2022-02-13</td>\n",
       "    </tr>\n",
       "    <tr>\n",
       "      <th>2</th>\n",
       "      <td>C0003</td>\n",
       "      <td>Michael Rivera</td>\n",
       "      <td>South America</td>\n",
       "      <td>2024-03-07</td>\n",
       "    </tr>\n",
       "    <tr>\n",
       "      <th>3</th>\n",
       "      <td>C0004</td>\n",
       "      <td>Kathleen Rodriguez</td>\n",
       "      <td>South America</td>\n",
       "      <td>2022-10-09</td>\n",
       "    </tr>\n",
       "    <tr>\n",
       "      <th>4</th>\n",
       "      <td>C0005</td>\n",
       "      <td>Laura Weber</td>\n",
       "      <td>Asia</td>\n",
       "      <td>2022-08-15</td>\n",
       "    </tr>\n",
       "  </tbody>\n",
       "</table>\n",
       "</div>"
      ],
      "text/plain": [
       "  CustomerID        CustomerName         Region  SignupDate\n",
       "0      C0001    Lawrence Carroll  South America  2022-07-10\n",
       "1      C0002      Elizabeth Lutz           Asia  2022-02-13\n",
       "2      C0003      Michael Rivera  South America  2024-03-07\n",
       "3      C0004  Kathleen Rodriguez  South America  2022-10-09\n",
       "4      C0005         Laura Weber           Asia  2022-08-15"
      ]
     },
     "execution_count": 44,
     "metadata": {},
     "output_type": "execute_result"
    }
   ],
   "source": [
    "customers.head()"
   ]
  },
  {
   "cell_type": "code",
   "execution_count": 45,
   "id": "1b7c54ef-c06b-44e1-8734-96ec115e7b89",
   "metadata": {},
   "outputs": [
    {
     "data": {
      "text/html": [
       "<div>\n",
       "<style scoped>\n",
       "    .dataframe tbody tr th:only-of-type {\n",
       "        vertical-align: middle;\n",
       "    }\n",
       "\n",
       "    .dataframe tbody tr th {\n",
       "        vertical-align: top;\n",
       "    }\n",
       "\n",
       "    .dataframe thead th {\n",
       "        text-align: right;\n",
       "    }\n",
       "</style>\n",
       "<table border=\"1\" class=\"dataframe\">\n",
       "  <thead>\n",
       "    <tr style=\"text-align: right;\">\n",
       "      <th></th>\n",
       "      <th>CustomerID</th>\n",
       "      <th>CustomerName</th>\n",
       "      <th>Region</th>\n",
       "      <th>SignupDate</th>\n",
       "    </tr>\n",
       "  </thead>\n",
       "  <tbody>\n",
       "    <tr>\n",
       "      <th>195</th>\n",
       "      <td>C0196</td>\n",
       "      <td>Laura Watts</td>\n",
       "      <td>Europe</td>\n",
       "      <td>2022-06-07</td>\n",
       "    </tr>\n",
       "    <tr>\n",
       "      <th>196</th>\n",
       "      <td>C0197</td>\n",
       "      <td>Christina Harvey</td>\n",
       "      <td>Europe</td>\n",
       "      <td>2023-03-21</td>\n",
       "    </tr>\n",
       "    <tr>\n",
       "      <th>197</th>\n",
       "      <td>C0198</td>\n",
       "      <td>Rebecca Ray</td>\n",
       "      <td>Europe</td>\n",
       "      <td>2022-02-27</td>\n",
       "    </tr>\n",
       "    <tr>\n",
       "      <th>198</th>\n",
       "      <td>C0199</td>\n",
       "      <td>Andrea Jenkins</td>\n",
       "      <td>Europe</td>\n",
       "      <td>2022-12-03</td>\n",
       "    </tr>\n",
       "    <tr>\n",
       "      <th>199</th>\n",
       "      <td>C0200</td>\n",
       "      <td>Kelly Cross</td>\n",
       "      <td>Asia</td>\n",
       "      <td>2023-06-11</td>\n",
       "    </tr>\n",
       "  </tbody>\n",
       "</table>\n",
       "</div>"
      ],
      "text/plain": [
       "    CustomerID      CustomerName  Region  SignupDate\n",
       "195      C0196       Laura Watts  Europe  2022-06-07\n",
       "196      C0197  Christina Harvey  Europe  2023-03-21\n",
       "197      C0198       Rebecca Ray  Europe  2022-02-27\n",
       "198      C0199    Andrea Jenkins  Europe  2022-12-03\n",
       "199      C0200       Kelly Cross    Asia  2023-06-11"
      ]
     },
     "execution_count": 45,
     "metadata": {},
     "output_type": "execute_result"
    }
   ],
   "source": [
    "customers.tail()"
   ]
  },
  {
   "cell_type": "code",
   "execution_count": 46,
   "id": "c46d7759-944e-49f4-ae75-6e831a447268",
   "metadata": {},
   "outputs": [
    {
     "data": {
      "text/plain": [
       "(200, 4)"
      ]
     },
     "execution_count": 46,
     "metadata": {},
     "output_type": "execute_result"
    }
   ],
   "source": [
    "customers.shape"
   ]
  },
  {
   "cell_type": "code",
   "execution_count": 47,
   "id": "4d8cde09-4f9f-4237-a59d-558ce26b7ac3",
   "metadata": {},
   "outputs": [
    {
     "data": {
      "text/html": [
       "<div>\n",
       "<style scoped>\n",
       "    .dataframe tbody tr th:only-of-type {\n",
       "        vertical-align: middle;\n",
       "    }\n",
       "\n",
       "    .dataframe tbody tr th {\n",
       "        vertical-align: top;\n",
       "    }\n",
       "\n",
       "    .dataframe thead th {\n",
       "        text-align: right;\n",
       "    }\n",
       "</style>\n",
       "<table border=\"1\" class=\"dataframe\">\n",
       "  <thead>\n",
       "    <tr style=\"text-align: right;\">\n",
       "      <th></th>\n",
       "      <th>ProductID</th>\n",
       "      <th>ProductName</th>\n",
       "      <th>Category</th>\n",
       "      <th>Price</th>\n",
       "    </tr>\n",
       "  </thead>\n",
       "  <tbody>\n",
       "    <tr>\n",
       "      <th>0</th>\n",
       "      <td>P001</td>\n",
       "      <td>ActiveWear Biography</td>\n",
       "      <td>Books</td>\n",
       "      <td>169.30</td>\n",
       "    </tr>\n",
       "    <tr>\n",
       "      <th>1</th>\n",
       "      <td>P002</td>\n",
       "      <td>ActiveWear Smartwatch</td>\n",
       "      <td>Electronics</td>\n",
       "      <td>346.30</td>\n",
       "    </tr>\n",
       "    <tr>\n",
       "      <th>2</th>\n",
       "      <td>P003</td>\n",
       "      <td>ComfortLiving Biography</td>\n",
       "      <td>Books</td>\n",
       "      <td>44.12</td>\n",
       "    </tr>\n",
       "    <tr>\n",
       "      <th>3</th>\n",
       "      <td>P004</td>\n",
       "      <td>BookWorld Rug</td>\n",
       "      <td>Home Decor</td>\n",
       "      <td>95.69</td>\n",
       "    </tr>\n",
       "    <tr>\n",
       "      <th>4</th>\n",
       "      <td>P005</td>\n",
       "      <td>TechPro T-Shirt</td>\n",
       "      <td>Clothing</td>\n",
       "      <td>429.31</td>\n",
       "    </tr>\n",
       "  </tbody>\n",
       "</table>\n",
       "</div>"
      ],
      "text/plain": [
       "  ProductID              ProductName     Category   Price\n",
       "0      P001     ActiveWear Biography        Books  169.30\n",
       "1      P002    ActiveWear Smartwatch  Electronics  346.30\n",
       "2      P003  ComfortLiving Biography        Books   44.12\n",
       "3      P004            BookWorld Rug   Home Decor   95.69\n",
       "4      P005          TechPro T-Shirt     Clothing  429.31"
      ]
     },
     "execution_count": 47,
     "metadata": {},
     "output_type": "execute_result"
    }
   ],
   "source": [
    "products.head()"
   ]
  },
  {
   "cell_type": "code",
   "execution_count": 48,
   "id": "b4576fdc-dbf0-42b8-8b06-be30705541a8",
   "metadata": {},
   "outputs": [
    {
     "data": {
      "text/html": [
       "<div>\n",
       "<style scoped>\n",
       "    .dataframe tbody tr th:only-of-type {\n",
       "        vertical-align: middle;\n",
       "    }\n",
       "\n",
       "    .dataframe tbody tr th {\n",
       "        vertical-align: top;\n",
       "    }\n",
       "\n",
       "    .dataframe thead th {\n",
       "        text-align: right;\n",
       "    }\n",
       "</style>\n",
       "<table border=\"1\" class=\"dataframe\">\n",
       "  <thead>\n",
       "    <tr style=\"text-align: right;\">\n",
       "      <th></th>\n",
       "      <th>ProductID</th>\n",
       "      <th>ProductName</th>\n",
       "      <th>Category</th>\n",
       "      <th>Price</th>\n",
       "    </tr>\n",
       "  </thead>\n",
       "  <tbody>\n",
       "    <tr>\n",
       "      <th>95</th>\n",
       "      <td>P096</td>\n",
       "      <td>SoundWave Headphones</td>\n",
       "      <td>Electronics</td>\n",
       "      <td>307.47</td>\n",
       "    </tr>\n",
       "    <tr>\n",
       "      <th>96</th>\n",
       "      <td>P097</td>\n",
       "      <td>BookWorld Cookbook</td>\n",
       "      <td>Books</td>\n",
       "      <td>319.34</td>\n",
       "    </tr>\n",
       "    <tr>\n",
       "      <th>97</th>\n",
       "      <td>P098</td>\n",
       "      <td>SoundWave Laptop</td>\n",
       "      <td>Electronics</td>\n",
       "      <td>299.93</td>\n",
       "    </tr>\n",
       "    <tr>\n",
       "      <th>98</th>\n",
       "      <td>P099</td>\n",
       "      <td>SoundWave Mystery Book</td>\n",
       "      <td>Books</td>\n",
       "      <td>354.29</td>\n",
       "    </tr>\n",
       "    <tr>\n",
       "      <th>99</th>\n",
       "      <td>P100</td>\n",
       "      <td>HomeSense Sweater</td>\n",
       "      <td>Clothing</td>\n",
       "      <td>126.34</td>\n",
       "    </tr>\n",
       "  </tbody>\n",
       "</table>\n",
       "</div>"
      ],
      "text/plain": [
       "   ProductID             ProductName     Category   Price\n",
       "95      P096    SoundWave Headphones  Electronics  307.47\n",
       "96      P097      BookWorld Cookbook        Books  319.34\n",
       "97      P098        SoundWave Laptop  Electronics  299.93\n",
       "98      P099  SoundWave Mystery Book        Books  354.29\n",
       "99      P100       HomeSense Sweater     Clothing  126.34"
      ]
     },
     "execution_count": 48,
     "metadata": {},
     "output_type": "execute_result"
    }
   ],
   "source": [
    "products.tail()"
   ]
  },
  {
   "cell_type": "code",
   "execution_count": 49,
   "id": "747ed77e-8d39-43b0-a03f-bcea849a3e00",
   "metadata": {},
   "outputs": [
    {
     "data": {
      "text/plain": [
       "(100, 4)"
      ]
     },
     "execution_count": 49,
     "metadata": {},
     "output_type": "execute_result"
    }
   ],
   "source": [
    "products.shape"
   ]
  },
  {
   "cell_type": "code",
   "execution_count": 50,
   "id": "23e227ac-4903-4bab-9c43-548be7ba53d2",
   "metadata": {},
   "outputs": [
    {
     "data": {
      "text/html": [
       "<div>\n",
       "<style scoped>\n",
       "    .dataframe tbody tr th:only-of-type {\n",
       "        vertical-align: middle;\n",
       "    }\n",
       "\n",
       "    .dataframe tbody tr th {\n",
       "        vertical-align: top;\n",
       "    }\n",
       "\n",
       "    .dataframe thead th {\n",
       "        text-align: right;\n",
       "    }\n",
       "</style>\n",
       "<table border=\"1\" class=\"dataframe\">\n",
       "  <thead>\n",
       "    <tr style=\"text-align: right;\">\n",
       "      <th></th>\n",
       "      <th>TransactionID</th>\n",
       "      <th>CustomerID</th>\n",
       "      <th>ProductID</th>\n",
       "      <th>TransactionDate</th>\n",
       "      <th>Quantity</th>\n",
       "      <th>TotalValue</th>\n",
       "      <th>Price</th>\n",
       "    </tr>\n",
       "  </thead>\n",
       "  <tbody>\n",
       "    <tr>\n",
       "      <th>0</th>\n",
       "      <td>T00001</td>\n",
       "      <td>C0199</td>\n",
       "      <td>P067</td>\n",
       "      <td>2024-08-25 12:38:23</td>\n",
       "      <td>1</td>\n",
       "      <td>300.68</td>\n",
       "      <td>300.68</td>\n",
       "    </tr>\n",
       "    <tr>\n",
       "      <th>1</th>\n",
       "      <td>T00112</td>\n",
       "      <td>C0146</td>\n",
       "      <td>P067</td>\n",
       "      <td>2024-05-27 22:23:54</td>\n",
       "      <td>1</td>\n",
       "      <td>300.68</td>\n",
       "      <td>300.68</td>\n",
       "    </tr>\n",
       "    <tr>\n",
       "      <th>2</th>\n",
       "      <td>T00166</td>\n",
       "      <td>C0127</td>\n",
       "      <td>P067</td>\n",
       "      <td>2024-04-25 07:38:55</td>\n",
       "      <td>1</td>\n",
       "      <td>300.68</td>\n",
       "      <td>300.68</td>\n",
       "    </tr>\n",
       "    <tr>\n",
       "      <th>3</th>\n",
       "      <td>T00272</td>\n",
       "      <td>C0087</td>\n",
       "      <td>P067</td>\n",
       "      <td>2024-03-26 22:55:37</td>\n",
       "      <td>2</td>\n",
       "      <td>601.36</td>\n",
       "      <td>300.68</td>\n",
       "    </tr>\n",
       "    <tr>\n",
       "      <th>4</th>\n",
       "      <td>T00363</td>\n",
       "      <td>C0070</td>\n",
       "      <td>P067</td>\n",
       "      <td>2024-03-21 15:10:10</td>\n",
       "      <td>3</td>\n",
       "      <td>902.04</td>\n",
       "      <td>300.68</td>\n",
       "    </tr>\n",
       "  </tbody>\n",
       "</table>\n",
       "</div>"
      ],
      "text/plain": [
       "  TransactionID CustomerID ProductID      TransactionDate  Quantity  \\\n",
       "0        T00001      C0199      P067  2024-08-25 12:38:23         1   \n",
       "1        T00112      C0146      P067  2024-05-27 22:23:54         1   \n",
       "2        T00166      C0127      P067  2024-04-25 07:38:55         1   \n",
       "3        T00272      C0087      P067  2024-03-26 22:55:37         2   \n",
       "4        T00363      C0070      P067  2024-03-21 15:10:10         3   \n",
       "\n",
       "   TotalValue   Price  \n",
       "0      300.68  300.68  \n",
       "1      300.68  300.68  \n",
       "2      300.68  300.68  \n",
       "3      601.36  300.68  \n",
       "4      902.04  300.68  "
      ]
     },
     "execution_count": 50,
     "metadata": {},
     "output_type": "execute_result"
    }
   ],
   "source": [
    "transactions.head()"
   ]
  },
  {
   "cell_type": "code",
   "execution_count": 51,
   "id": "d1af2a79-b7db-4011-971a-89e634eabe0a",
   "metadata": {},
   "outputs": [
    {
     "data": {
      "text/html": [
       "<div>\n",
       "<style scoped>\n",
       "    .dataframe tbody tr th:only-of-type {\n",
       "        vertical-align: middle;\n",
       "    }\n",
       "\n",
       "    .dataframe tbody tr th {\n",
       "        vertical-align: top;\n",
       "    }\n",
       "\n",
       "    .dataframe thead th {\n",
       "        text-align: right;\n",
       "    }\n",
       "</style>\n",
       "<table border=\"1\" class=\"dataframe\">\n",
       "  <thead>\n",
       "    <tr style=\"text-align: right;\">\n",
       "      <th></th>\n",
       "      <th>TransactionID</th>\n",
       "      <th>CustomerID</th>\n",
       "      <th>ProductID</th>\n",
       "      <th>TransactionDate</th>\n",
       "      <th>Quantity</th>\n",
       "      <th>TotalValue</th>\n",
       "      <th>Price</th>\n",
       "    </tr>\n",
       "  </thead>\n",
       "  <tbody>\n",
       "    <tr>\n",
       "      <th>995</th>\n",
       "      <td>T00496</td>\n",
       "      <td>C0118</td>\n",
       "      <td>P037</td>\n",
       "      <td>2024-10-24 08:30:27</td>\n",
       "      <td>1</td>\n",
       "      <td>459.86</td>\n",
       "      <td>459.86</td>\n",
       "    </tr>\n",
       "    <tr>\n",
       "      <th>996</th>\n",
       "      <td>T00759</td>\n",
       "      <td>C0059</td>\n",
       "      <td>P037</td>\n",
       "      <td>2024-06-04 02:15:24</td>\n",
       "      <td>3</td>\n",
       "      <td>1379.58</td>\n",
       "      <td>459.86</td>\n",
       "    </tr>\n",
       "    <tr>\n",
       "      <th>997</th>\n",
       "      <td>T00922</td>\n",
       "      <td>C0018</td>\n",
       "      <td>P037</td>\n",
       "      <td>2024-04-05 13:05:32</td>\n",
       "      <td>4</td>\n",
       "      <td>1839.44</td>\n",
       "      <td>459.86</td>\n",
       "    </tr>\n",
       "    <tr>\n",
       "      <th>998</th>\n",
       "      <td>T00959</td>\n",
       "      <td>C0115</td>\n",
       "      <td>P037</td>\n",
       "      <td>2024-09-29 10:16:02</td>\n",
       "      <td>2</td>\n",
       "      <td>919.72</td>\n",
       "      <td>459.86</td>\n",
       "    </tr>\n",
       "    <tr>\n",
       "      <th>999</th>\n",
       "      <td>T00992</td>\n",
       "      <td>C0024</td>\n",
       "      <td>P037</td>\n",
       "      <td>2024-04-21 10:52:24</td>\n",
       "      <td>1</td>\n",
       "      <td>459.86</td>\n",
       "      <td>459.86</td>\n",
       "    </tr>\n",
       "  </tbody>\n",
       "</table>\n",
       "</div>"
      ],
      "text/plain": [
       "    TransactionID CustomerID ProductID      TransactionDate  Quantity  \\\n",
       "995        T00496      C0118      P037  2024-10-24 08:30:27         1   \n",
       "996        T00759      C0059      P037  2024-06-04 02:15:24         3   \n",
       "997        T00922      C0018      P037  2024-04-05 13:05:32         4   \n",
       "998        T00959      C0115      P037  2024-09-29 10:16:02         2   \n",
       "999        T00992      C0024      P037  2024-04-21 10:52:24         1   \n",
       "\n",
       "     TotalValue   Price  \n",
       "995      459.86  459.86  \n",
       "996     1379.58  459.86  \n",
       "997     1839.44  459.86  \n",
       "998      919.72  459.86  \n",
       "999      459.86  459.86  "
      ]
     },
     "execution_count": 51,
     "metadata": {},
     "output_type": "execute_result"
    }
   ],
   "source": [
    "transactions.tail()"
   ]
  },
  {
   "cell_type": "code",
   "execution_count": 52,
   "id": "a8199052-997e-4ffa-a016-01998b050bb4",
   "metadata": {},
   "outputs": [
    {
     "data": {
      "text/plain": [
       "(1000, 7)"
      ]
     },
     "execution_count": 52,
     "metadata": {},
     "output_type": "execute_result"
    }
   ],
   "source": [
    "transactions.shape"
   ]
  },
  {
   "cell_type": "markdown",
   "id": "005ebf84-86f7-4f8e-a140-e0d80b3204b4",
   "metadata": {},
   "source": [
    "# Steps for Lookalike Model 🤝"
   ]
  },
  {
   "cell_type": "markdown",
   "id": "037b202a-02a4-4f65-9f16-2c95534c0edd",
   "metadata": {},
   "source": [
    "### Step 1: Merge datasets to enrich the transaction data"
   ]
  },
  {
   "cell_type": "code",
   "execution_count": 53,
   "id": "fbc5bfe2-d8d2-4255-bc66-ff3a017a04db",
   "metadata": {},
   "outputs": [],
   "source": [
    "\n",
    "merged_data = transactions.merge(customers, on=\"CustomerID\", how=\"left\") \\\n",
    "                                       .merge(products, on=\"ProductID\", how=\"left\")\n"
   ]
  },
  {
   "cell_type": "code",
   "execution_count": 54,
   "id": "c5baae2b-3bc8-4c7b-914e-4f5dadb92bf9",
   "metadata": {},
   "outputs": [
    {
     "data": {
      "text/html": [
       "<div>\n",
       "<style scoped>\n",
       "    .dataframe tbody tr th:only-of-type {\n",
       "        vertical-align: middle;\n",
       "    }\n",
       "\n",
       "    .dataframe tbody tr th {\n",
       "        vertical-align: top;\n",
       "    }\n",
       "\n",
       "    .dataframe thead th {\n",
       "        text-align: right;\n",
       "    }\n",
       "</style>\n",
       "<table border=\"1\" class=\"dataframe\">\n",
       "  <thead>\n",
       "    <tr style=\"text-align: right;\">\n",
       "      <th></th>\n",
       "      <th>TransactionID</th>\n",
       "      <th>CustomerID</th>\n",
       "      <th>ProductID</th>\n",
       "      <th>TransactionDate</th>\n",
       "      <th>Quantity</th>\n",
       "      <th>TotalValue</th>\n",
       "      <th>Price_x</th>\n",
       "      <th>CustomerName</th>\n",
       "      <th>Region</th>\n",
       "      <th>SignupDate</th>\n",
       "      <th>ProductName</th>\n",
       "      <th>Category</th>\n",
       "      <th>Price_y</th>\n",
       "    </tr>\n",
       "  </thead>\n",
       "  <tbody>\n",
       "    <tr>\n",
       "      <th>0</th>\n",
       "      <td>T00001</td>\n",
       "      <td>C0199</td>\n",
       "      <td>P067</td>\n",
       "      <td>2024-08-25 12:38:23</td>\n",
       "      <td>1</td>\n",
       "      <td>300.68</td>\n",
       "      <td>300.68</td>\n",
       "      <td>Andrea Jenkins</td>\n",
       "      <td>Europe</td>\n",
       "      <td>2022-12-03</td>\n",
       "      <td>ComfortLiving Bluetooth Speaker</td>\n",
       "      <td>Electronics</td>\n",
       "      <td>300.68</td>\n",
       "    </tr>\n",
       "    <tr>\n",
       "      <th>1</th>\n",
       "      <td>T00112</td>\n",
       "      <td>C0146</td>\n",
       "      <td>P067</td>\n",
       "      <td>2024-05-27 22:23:54</td>\n",
       "      <td>1</td>\n",
       "      <td>300.68</td>\n",
       "      <td>300.68</td>\n",
       "      <td>Brittany Harvey</td>\n",
       "      <td>Asia</td>\n",
       "      <td>2024-09-04</td>\n",
       "      <td>ComfortLiving Bluetooth Speaker</td>\n",
       "      <td>Electronics</td>\n",
       "      <td>300.68</td>\n",
       "    </tr>\n",
       "    <tr>\n",
       "      <th>2</th>\n",
       "      <td>T00166</td>\n",
       "      <td>C0127</td>\n",
       "      <td>P067</td>\n",
       "      <td>2024-04-25 07:38:55</td>\n",
       "      <td>1</td>\n",
       "      <td>300.68</td>\n",
       "      <td>300.68</td>\n",
       "      <td>Kathryn Stevens</td>\n",
       "      <td>Europe</td>\n",
       "      <td>2024-04-04</td>\n",
       "      <td>ComfortLiving Bluetooth Speaker</td>\n",
       "      <td>Electronics</td>\n",
       "      <td>300.68</td>\n",
       "    </tr>\n",
       "    <tr>\n",
       "      <th>3</th>\n",
       "      <td>T00272</td>\n",
       "      <td>C0087</td>\n",
       "      <td>P067</td>\n",
       "      <td>2024-03-26 22:55:37</td>\n",
       "      <td>2</td>\n",
       "      <td>601.36</td>\n",
       "      <td>300.68</td>\n",
       "      <td>Travis Campbell</td>\n",
       "      <td>South America</td>\n",
       "      <td>2024-04-11</td>\n",
       "      <td>ComfortLiving Bluetooth Speaker</td>\n",
       "      <td>Electronics</td>\n",
       "      <td>300.68</td>\n",
       "    </tr>\n",
       "    <tr>\n",
       "      <th>4</th>\n",
       "      <td>T00363</td>\n",
       "      <td>C0070</td>\n",
       "      <td>P067</td>\n",
       "      <td>2024-03-21 15:10:10</td>\n",
       "      <td>3</td>\n",
       "      <td>902.04</td>\n",
       "      <td>300.68</td>\n",
       "      <td>Timothy Perez</td>\n",
       "      <td>Europe</td>\n",
       "      <td>2022-03-15</td>\n",
       "      <td>ComfortLiving Bluetooth Speaker</td>\n",
       "      <td>Electronics</td>\n",
       "      <td>300.68</td>\n",
       "    </tr>\n",
       "  </tbody>\n",
       "</table>\n",
       "</div>"
      ],
      "text/plain": [
       "  TransactionID CustomerID ProductID      TransactionDate  Quantity  \\\n",
       "0        T00001      C0199      P067  2024-08-25 12:38:23         1   \n",
       "1        T00112      C0146      P067  2024-05-27 22:23:54         1   \n",
       "2        T00166      C0127      P067  2024-04-25 07:38:55         1   \n",
       "3        T00272      C0087      P067  2024-03-26 22:55:37         2   \n",
       "4        T00363      C0070      P067  2024-03-21 15:10:10         3   \n",
       "\n",
       "   TotalValue  Price_x     CustomerName         Region  SignupDate  \\\n",
       "0      300.68   300.68   Andrea Jenkins         Europe  2022-12-03   \n",
       "1      300.68   300.68  Brittany Harvey           Asia  2024-09-04   \n",
       "2      300.68   300.68  Kathryn Stevens         Europe  2024-04-04   \n",
       "3      601.36   300.68  Travis Campbell  South America  2024-04-11   \n",
       "4      902.04   300.68    Timothy Perez         Europe  2022-03-15   \n",
       "\n",
       "                       ProductName     Category  Price_y  \n",
       "0  ComfortLiving Bluetooth Speaker  Electronics   300.68  \n",
       "1  ComfortLiving Bluetooth Speaker  Electronics   300.68  \n",
       "2  ComfortLiving Bluetooth Speaker  Electronics   300.68  \n",
       "3  ComfortLiving Bluetooth Speaker  Electronics   300.68  \n",
       "4  ComfortLiving Bluetooth Speaker  Electronics   300.68  "
      ]
     },
     "execution_count": 54,
     "metadata": {},
     "output_type": "execute_result"
    }
   ],
   "source": [
    "merged_data.head()"
   ]
  },
  {
   "cell_type": "code",
   "execution_count": 55,
   "id": "570b7c08-22ba-4efd-83df-f211d1ba5680",
   "metadata": {},
   "outputs": [
    {
     "data": {
      "text/html": [
       "<div>\n",
       "<style scoped>\n",
       "    .dataframe tbody tr th:only-of-type {\n",
       "        vertical-align: middle;\n",
       "    }\n",
       "\n",
       "    .dataframe tbody tr th {\n",
       "        vertical-align: top;\n",
       "    }\n",
       "\n",
       "    .dataframe thead th {\n",
       "        text-align: right;\n",
       "    }\n",
       "</style>\n",
       "<table border=\"1\" class=\"dataframe\">\n",
       "  <thead>\n",
       "    <tr style=\"text-align: right;\">\n",
       "      <th></th>\n",
       "      <th>Quantity</th>\n",
       "      <th>TotalValue</th>\n",
       "      <th>Price_x</th>\n",
       "      <th>Price_y</th>\n",
       "    </tr>\n",
       "  </thead>\n",
       "  <tbody>\n",
       "    <tr>\n",
       "      <th>count</th>\n",
       "      <td>1000.000000</td>\n",
       "      <td>1000.000000</td>\n",
       "      <td>1000.00000</td>\n",
       "      <td>1000.00000</td>\n",
       "    </tr>\n",
       "    <tr>\n",
       "      <th>mean</th>\n",
       "      <td>2.537000</td>\n",
       "      <td>689.995560</td>\n",
       "      <td>272.55407</td>\n",
       "      <td>272.55407</td>\n",
       "    </tr>\n",
       "    <tr>\n",
       "      <th>std</th>\n",
       "      <td>1.117981</td>\n",
       "      <td>493.144478</td>\n",
       "      <td>140.73639</td>\n",
       "      <td>140.73639</td>\n",
       "    </tr>\n",
       "    <tr>\n",
       "      <th>min</th>\n",
       "      <td>1.000000</td>\n",
       "      <td>16.080000</td>\n",
       "      <td>16.08000</td>\n",
       "      <td>16.08000</td>\n",
       "    </tr>\n",
       "    <tr>\n",
       "      <th>25%</th>\n",
       "      <td>2.000000</td>\n",
       "      <td>295.295000</td>\n",
       "      <td>147.95000</td>\n",
       "      <td>147.95000</td>\n",
       "    </tr>\n",
       "    <tr>\n",
       "      <th>50%</th>\n",
       "      <td>3.000000</td>\n",
       "      <td>588.880000</td>\n",
       "      <td>299.93000</td>\n",
       "      <td>299.93000</td>\n",
       "    </tr>\n",
       "    <tr>\n",
       "      <th>75%</th>\n",
       "      <td>4.000000</td>\n",
       "      <td>1011.660000</td>\n",
       "      <td>404.40000</td>\n",
       "      <td>404.40000</td>\n",
       "    </tr>\n",
       "    <tr>\n",
       "      <th>max</th>\n",
       "      <td>4.000000</td>\n",
       "      <td>1991.040000</td>\n",
       "      <td>497.76000</td>\n",
       "      <td>497.76000</td>\n",
       "    </tr>\n",
       "  </tbody>\n",
       "</table>\n",
       "</div>"
      ],
      "text/plain": [
       "          Quantity   TotalValue     Price_x     Price_y\n",
       "count  1000.000000  1000.000000  1000.00000  1000.00000\n",
       "mean      2.537000   689.995560   272.55407   272.55407\n",
       "std       1.117981   493.144478   140.73639   140.73639\n",
       "min       1.000000    16.080000    16.08000    16.08000\n",
       "25%       2.000000   295.295000   147.95000   147.95000\n",
       "50%       3.000000   588.880000   299.93000   299.93000\n",
       "75%       4.000000  1011.660000   404.40000   404.40000\n",
       "max       4.000000  1991.040000   497.76000   497.76000"
      ]
     },
     "execution_count": 55,
     "metadata": {},
     "output_type": "execute_result"
    }
   ],
   "source": [
    "merged_data.describe()"
   ]
  },
  {
   "cell_type": "markdown",
   "id": "cb3353cf-faed-411f-a2b4-852d71fa0b6e",
   "metadata": {},
   "source": [
    "### Step 2: Aggregate customer-product data"
   ]
  },
  {
   "cell_type": "code",
   "execution_count": 56,
   "id": "e9401432-de1e-451e-b375-39439500a9fa",
   "metadata": {},
   "outputs": [],
   "source": [
    "# Total spending and purchase frequency per product category for each customer\n",
    "customer_features = merged_data.groupby([\"CustomerID\", \"Category\"]).agg(\n",
    "    TotalSpending=(\"TotalValue\", \"sum\"),\n",
    "    PurchaseFrequency=(\"Quantity\", \"sum\")\n",
    ").reset_index()\n",
    "\n",
    "# Pivot the data to create a feature matrix for customers\n",
    "customer_feature_matrix = customer_features.pivot_table(\n",
    "    index=\"CustomerID\",\n",
    "    columns=\"Category\",\n",
    "    values=[\"TotalSpending\", \"PurchaseFrequency\"],\n",
    "    fill_value=0\n",
    ")\n",
    "\n",
    "# Flatten multi-level columns\n",
    "customer_feature_matrix.columns = [\n",
    "    f\"{stat}_{category}\" for stat, category in customer_feature_matrix.columns\n",
    "]\n",
    "\n",
    "# Reset index to include CustomerID\n",
    "customer_feature_matrix.reset_index(inplace=True)\n"
   ]
  },
  {
   "cell_type": "markdown",
   "id": "277cf64c-8633-4531-aa10-09e4d45d5ea2",
   "metadata": {},
   "source": [
    "### Step 3: Normalize the feature matrix"
   ]
  },
  {
   "cell_type": "code",
   "execution_count": 57,
   "id": "0657514b-7264-44b9-99fb-97d4000ddab3",
   "metadata": {},
   "outputs": [],
   "source": [
    "scaler = StandardScaler()\n",
    "customer_ids = customer_feature_matrix[\"CustomerID\"]\n",
    "feature_data = customer_feature_matrix.drop(\"CustomerID\", axis=1)\n",
    "\n",
    "# Scale the feature data\n",
    "scaled_features = scaler.fit_transform(feature_data)\n"
   ]
  },
  {
   "cell_type": "markdown",
   "id": "525e8fd5-7a55-40c0-905d-9103d08c5d0f",
   "metadata": {},
   "source": [
    "### Step 4: Compute similarity scores using cosine similarity"
   ]
  },
  {
   "cell_type": "code",
   "execution_count": 58,
   "id": "b60fa13b-0f7e-49b2-9eb0-ced6e39dc454",
   "metadata": {},
   "outputs": [],
   "source": [
    "similarity_matrix = cosine_similarity(scaled_features)"
   ]
  },
  {
   "cell_type": "markdown",
   "id": "4abb69a2-afd4-4fdf-b575-f67d32e1034b",
   "metadata": {},
   "source": [
    "### Step 5: Generate top 3 similar customers for the first 20 customers (C0001 - C0020)"
   ]
  },
  {
   "cell_type": "code",
   "execution_count": 59,
   "id": "2544b091-24ea-47cd-9223-ee646db6e4a6",
   "metadata": {},
   "outputs": [],
   "source": [
    "lookalike_map = {}\n",
    "first_20_customers = customer_ids[:20]\n",
    "\n",
    "for idx, customer in enumerate(first_20_customers):\n",
    "    # Get similarity scores for this customer\n",
    "    customer_similarities = similarity_matrix[idx]\n",
    "    \n",
    "    # Pair scores with corresponding customer IDs\n",
    "    similar_customers = sorted(\n",
    "        [\n",
    "            (customer_ids[j], customer_similarities[j]) \n",
    "            for j in range(len(customer_ids)) if j != idx\n",
    "        ],\n",
    "        key=lambda x: x[1], reverse=True\n",
    "    )\n",
    "    \n",
    "    # Select the top 3 most similar customers\n",
    "    lookalike_map[customer] = similar_customers[:3]\n"
   ]
  },
  {
   "cell_type": "markdown",
   "id": "2f24f2bb-fbbf-49e4-b130-da1eba9d4243",
   "metadata": {},
   "source": [
    "### Step 6: Save the lookalike map to a CSV file"
   ]
  },
  {
   "cell_type": "code",
   "execution_count": 60,
   "id": "3a7c938d-534b-4e83-8c15-85ecb14113f4",
   "metadata": {},
   "outputs": [
    {
     "name": "stdout",
     "output_type": "stream",
     "text": [
      "Lookalike Model complete. Results saved to 'Abhishek_Verma_Lookalike.csv'.\n"
     ]
    }
   ],
   "source": [
    "lookalike_data = []\n",
    "\n",
    "for customer, similar_list in lookalike_map.items():\n",
    "    for similar_customer, score in similar_list:\n",
    "        lookalike_data.append({\"CustomerID\": customer, \n",
    "                               \"SimilarCustomerID\": similar_customer, \n",
    "                               \"SimilarityScore\": score})\n",
    "\n",
    "lookalike_df = pd.DataFrame(lookalike_data)\n",
    "lookalike_df.to_csv(\"Abhishek_Verma_Lookalike.csv\", index=False)\n",
    "\n",
    "# Final output\n",
    "print(\"Lookalike Model complete. Results saved to 'Abhishek_Verma_Lookalike.csv'.\")"
   ]
  },
  {
   "cell_type": "markdown",
   "id": "28214cf0-6d2a-4366-be5d-1ca23ed250e5",
   "metadata": {},
   "source": [
    "## Examples of Output Validation Based on Output CSV File."
   ]
  },
  {
   "cell_type": "markdown",
   "id": "e3bb34a6-4b58-441a-916e-458526817279",
   "metadata": {},
   "source": [
    "### For CustomerID = C0001, the top 3 similar customers are:"
   ]
  },
  {
   "cell_type": "raw",
   "id": "cb0ead50-f063-431b-a1db-54997ffa6b15",
   "metadata": {},
   "source": [
    "C0069 (0.950135174), C0120 (0.906847634), C0026 (0.880428267)"
   ]
  },
  {
   "cell_type": "markdown",
   "id": "03e678aa-e325-4579-9d0b-fa731159513a",
   "metadata": {},
   "source": [
    "### Conclusion - These scores indicate that C0069 is the most similar customer to C0001, followed by C0120 and C0026"
   ]
  },
  {
   "cell_type": "markdown",
   "id": "c8edb038-dbea-42ec-874f-42e941b8df7a",
   "metadata": {},
   "source": [
    "### For CustomerID = C0020, the top 3 similar customers are:"
   ]
  },
  {
   "cell_type": "raw",
   "id": "010f0429-695e-463d-a84f-f0f36e00d493",
   "metadata": {},
   "source": [
    "C0130 (0.98216185), C0140 (0.916534057), C0009 (0.880598228)"
   ]
  },
  {
   "cell_type": "markdown",
   "id": "44fdd42b-a913-4376-b130-6b7f50a7dde0",
   "metadata": {},
   "source": [
    "### Conclusion - These scores indicate that C0130 is the most similar customer to C0020, followed by C0140 and C0009"
   ]
  },
  {
   "cell_type": "markdown",
   "id": "2e6f7978-6be3-43a1-931f-d94d7a700ebb",
   "metadata": {},
   "source": [
    "# Thank You !"
   ]
  },
  {
   "cell_type": "code",
   "execution_count": null,
   "id": "410f8325-1cee-49a7-b6fc-238a5386882f",
   "metadata": {},
   "outputs": [],
   "source": []
  }
 ],
 "metadata": {
  "kernelspec": {
   "display_name": "Python 3 (ipykernel)",
   "language": "python",
   "name": "python3"
  },
  "language_info": {
   "codemirror_mode": {
    "name": "ipython",
    "version": 3
   },
   "file_extension": ".py",
   "mimetype": "text/x-python",
   "name": "python",
   "nbconvert_exporter": "python",
   "pygments_lexer": "ipython3",
   "version": "3.10.4"
  }
 },
 "nbformat": 4,
 "nbformat_minor": 5
}
